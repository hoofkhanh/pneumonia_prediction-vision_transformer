{
 "cells": [
  {
   "cell_type": "code",
   "execution_count": 1,
   "id": "9d217bfc-b995-4caf-8c89-7cc92f0441f6",
   "metadata": {},
   "outputs": [],
   "source": [
    "import numpy as np\n",
    "import pandas as pd\n",
    "import os\n",
    "from glob import glob\n",
    "%matplotlib inline\n",
    "import matplotlib.pyplot as plt\n",
    "from sklearn.metrics import classification_report,confusion_matrix\n",
    "import seaborn as sns\n",
    "from sklearn.model_selection import train_test_split\n"
   ]
  },
  {
   "cell_type": "code",
   "execution_count": 2,
   "id": "6ce3bf1c-f7b8-4fbc-ac6d-2595e9df4b51",
   "metadata": {
    "scrolled": true
   },
   "outputs": [],
   "source": [
    "train_data_dir = 'chest_xray/chest_xray/train'\n",
    "filepaths = []\n",
    "labels = []\n",
    "\n",
    "folds = os.listdir(train_data_dir)\n",
    "# print(folds)\n",
    "\n",
    "for fold in folds:\n",
    "    foldpath = os.path.join(train_data_dir, fold)\n",
    "    filelist = os.listdir(foldpath)\n",
    "    for file in filelist:\n",
    "        fpath = os.path.join(foldpath, file)\n",
    "\n",
    "        fpath = fpath.replace(\"\\\\\", \"/\")\n",
    "        \n",
    "        filepaths.append(fpath)\n",
    "        labels.append(fold)\n",
    "\n",
    "# Concatenate data paths with labels into one dataframe\n",
    "Fseries = pd.Series(filepaths, name= 'filepaths')\n",
    "Lseries = pd.Series(labels, name='labels')\n",
    "\n",
    "train_df = pd.concat([Fseries, Lseries], axis= 1)"
   ]
  },
  {
   "cell_type": "code",
   "execution_count": 3,
   "id": "de8a42a2-28ef-48be-8fd5-8acd5ff6741a",
   "metadata": {},
   "outputs": [],
   "source": [
    "test_data_dir = 'chest_xray/chest_xray/test'\n",
    "filepaths = []\n",
    "labels = []\n",
    "\n",
    "folds = os.listdir(test_data_dir)\n",
    "for fold in folds:\n",
    "    foldpath = os.path.join(test_data_dir, fold)\n",
    "    filelist = os.listdir(foldpath)\n",
    "    for file in filelist:\n",
    "        fpath = os.path.join(foldpath, file)\n",
    "\n",
    "        fpath = fpath.replace(\"\\\\\", \"/\")\n",
    "        \n",
    "        filepaths.append(fpath)\n",
    "        labels.append(fold)\n",
    "\n",
    "# Concatenate data paths with labels into one dataframe\n",
    "Fseries = pd.Series(filepaths, name= 'filepaths')\n",
    "Lseries = pd.Series(labels, name='labels')\n",
    "test_df = pd.concat([Fseries, Lseries], axis= 1)\n",
    "train_df = pd.concat([train_df, test_df], axis=0, ignore_index=True)"
   ]
  },
  {
   "cell_type": "code",
   "execution_count": 4,
   "id": "38a498ec-76a7-4358-816e-541f953770b4",
   "metadata": {},
   "outputs": [],
   "source": [
    "val_data_dir = 'chest_xray/chest_xray/val'\n",
    "filepaths = []\n",
    "labels = []\n",
    "folds = os.listdir(val_data_dir)\n",
    "for fold in folds:\n",
    "    foldpath = os.path.join(val_data_dir, fold)\n",
    "    filelist = os.listdir(foldpath)\n",
    "    for file in filelist:\n",
    "        fpath = os.path.join(foldpath, file)\n",
    "\n",
    "        fpath = fpath.replace(\"\\\\\", \"/\")\n",
    "        \n",
    "        filepaths.append(fpath)\n",
    "        labels.append(fold)\n",
    "\n",
    "# Concatenate data paths with labels into one dataframe\n",
    "Fseries = pd.Series(filepaths, name= 'filepaths')\n",
    "Lseries = pd.Series(labels, name='labels')\n",
    "valid_df = pd.concat([Fseries, Lseries], axis= 1)\n",
    "train_df = pd.concat([train_df, valid_df], axis=0, ignore_index=True)"
   ]
  },
  {
   "cell_type": "code",
   "execution_count": 5,
   "id": "7de92004-03c8-442d-923a-52b2ebc5b938",
   "metadata": {},
   "outputs": [
    {
     "name": "stdout",
     "output_type": "stream",
     "text": [
      "LẤY THÊM BỆNH VIÊM PHỔI : 322\n",
      "LẤY THÊM KHÔNG BỊ BỆNH:  3012\n"
     ]
    }
   ],
   "source": [
    "all_xray_df = pd.read_csv('build_vit_model/input/Data_Entry_2017.csv')\n",
    "all_image_paths = {os.path.basename(x): x for x in\n",
    "                      glob(os.path.join('build_vit_model/input', 'images*', '*', '*.png'))\n",
    "                  }\n",
    "all_xray_df['filepaths'] = all_xray_df['Image Index'].map(all_image_paths.get)\n",
    "\n",
    "filtered_df = all_xray_df[all_xray_df['Finding Labels'] == 'Pneumonia']\n",
    "\n",
    "no_finding_df = all_xray_df[all_xray_df['Finding Labels'] == 'No Finding']\n",
    "sampled_no_finding_df = no_finding_df.sample(n=3012, random_state=42) \n",
    "\n",
    "result_df_1 = filtered_df[['filepaths']].copy() \n",
    "result_df_1['labels'] = 'Pneumonia'\n",
    "\n",
    "result_df_2 = sampled_no_finding_df[['filepaths']].copy() \n",
    "result_df_2['labels'] = 'NORMAL'\n",
    "\n",
    "train_df = pd.concat([train_df, result_df_1], axis=0, ignore_index=True)\n",
    "train_df = pd.concat([train_df, result_df_2], axis=0, ignore_index=True)\n",
    "print('LẤY THÊM BỆNH VIÊM PHỔI :',result_df_1.shape[0])\n",
    "print('LẤY THÊM KHÔNG BỊ BỆNH: ',result_df_2.shape[0])"
   ]
  },
  {
   "cell_type": "code",
   "execution_count": 6,
   "id": "1d85bc96-fe20-4cb5-9cfe-40d3b355de6f",
   "metadata": {},
   "outputs": [],
   "source": [
    "train_df['labels'] = train_df['labels'].apply(lambda x: 0 if x == 'NORMAL' else 1)"
   ]
  },
  {
   "cell_type": "code",
   "execution_count": 7,
   "id": "08d4a23b-685f-4fab-be1d-27d7f480af8a",
   "metadata": {},
   "outputs": [],
   "source": [
    "train_df, temp_df = train_test_split(train_df, \n",
    "                                     test_size=0.2, \n",
    "                                     random_state=0, \n",
    "                                     stratify=train_df['labels']\n",
    "                                    )\n",
    "valid_df, test_df = train_test_split(temp_df, \n",
    "                                     test_size=0.5, \n",
    "                                     random_state=0, \n",
    "                                     stratify=temp_df['labels']\n",
    "                                    )"
   ]
  },
  {
   "cell_type": "code",
   "execution_count": 8,
   "id": "9c3dc3bf-96cd-41e7-8dc8-4e19cc69902d",
   "metadata": {},
   "outputs": [
    {
     "name": "stdout",
     "output_type": "stream",
     "text": [
      "train 7352 validation 919 test 919 test_label 919\n"
     ]
    }
   ],
   "source": [
    "test_labels = test_df['labels'].values \n",
    "print('train', train_df.shape[0], 'validation', valid_df.shape[0], 'test', test_df.shape[0],'test_label', test_labels.shape[0])\n"
   ]
  },
  {
   "cell_type": "code",
   "execution_count": 9,
   "id": "663646da-f3ca-4b37-b51e-e5799a0253fb",
   "metadata": {},
   "outputs": [
    {
     "data": {
      "image/png": "[encoded data removed]",
      "text/plain": [
       "<Figure size 1000x600 with 1 Axes>"
      ]
     },
     "metadata": {},
     "output_type": "display_data"
    }
   ],
   "source": [
    "label_counts = train_df['labels'].value_counts()\n",
    "plt.figure(figsize=(10, 6))\n",
    "label_counts.plot(kind='bar', color= 'skyblue')\n",
    "plt.title('Tỉ lệ phân phối bệnh viêm phổi và không bệnh')\n",
    "plt.xlabel('Labels', fontsize=12)\n",
    "plt.ylabel('Count', fontsize=12)\n",
    "plt.xticks(rotation=0, ha='right')\n",
    "plt.tight_layout()\n",
    "plt.show()"
   ]
  },
  {
   "cell_type": "code",
   "execution_count": 10,
   "id": "c3d5b318-e4ce-4b8a-bda7-b767e9252c39",
   "metadata": {},
   "outputs": [],
   "source": [
    "from tensorflow.keras.preprocessing.image import ImageDataGenerator\n",
    "IMG_SIZE = (28,28)\n",
    "TRAIN_BATCH_SIZE = 32\n",
    "# VALID_TEST_BATCH_SIZE = valid_df.shape[0]\n",
    "VALID_TEST_BATCH_SIZE = 32\n",
    "core_idg = ImageDataGenerator(\n",
    "                            rescale=1./255,\n",
    "                              horizontal_flip=True,\n",
    "                              vertical_flip=False,\n",
    "                              height_shift_range=0.2,\n",
    "                              width_shift_range=0.2,\n",
    "                              rotation_range=40,\n",
    "                              shear_range=0.2,\n",
    "                              fill_mode='reflect',\n",
    "                              zoom_range=0.2\n",
    "                             )\n"
   ]
  },
  {
   "cell_type": "code",
   "execution_count": 11,
   "id": "5bd485ec-6c62-42db-b187-2f9d07888f86",
   "metadata": {},
   "outputs": [
    {
     "name": "stdout",
     "output_type": "stream",
     "text": [
      "Found 7352 validated image filenames.\n"
     ]
    }
   ],
   "source": [
    "train_gen = core_idg.flow_from_dataframe(\n",
    "    dataframe=train_df,\n",
    "    directory=None,\n",
    "    x_col='filepaths',\n",
    "    y_col= 'labels',          \n",
    "    target_size=IMG_SIZE,\n",
    "    class_mode='raw',        \n",
    "    batch_size=TRAIN_BATCH_SIZE,\n",
    "    color_mode='grayscale',\n",
    "    shuffle=True,  \n",
    "    seed=42,\n",
    "    # weight_col='sample_weights'\n",
    ")\n"
   ]
  },
  {
   "cell_type": "code",
   "execution_count": 12,
   "id": "4b779e9a-6327-4ad0-901b-db517e86b2a5",
   "metadata": {},
   "outputs": [],
   "source": [
    "\n",
    "image_generator = ImageDataGenerator(\n",
    "    rescale=1./255\n",
    ")\n",
    "\n"
   ]
  },
  {
   "cell_type": "code",
   "execution_count": 13,
   "id": "ce35594b-ea5b-44ac-947a-559f01f48506",
   "metadata": {},
   "outputs": [
    {
     "name": "stdout",
     "output_type": "stream",
     "text": [
      "Found 919 validated image filenames.\n"
     ]
    }
   ],
   "source": [
    "valid_gen = image_generator.flow_from_dataframe(\n",
    "    dataframe=valid_df,\n",
    "    directory=None,\n",
    "    x_col='filepaths',\n",
    "    y_col= 'labels',          \n",
    "    target_size=IMG_SIZE,\n",
    "    class_mode='raw',        \n",
    "    batch_size=VALID_TEST_BATCH_SIZE,\n",
    "    color_mode='grayscale',\n",
    "    shuffle=False,  \n",
    "    seed=42 \n",
    ")\n",
    "\n"
   ]
  },
  {
   "cell_type": "code",
   "execution_count": 14,
   "id": "2d536a2b-f7de-43ae-8b48-9ec6edfbfdbe",
   "metadata": {},
   "outputs": [
    {
     "name": "stdout",
     "output_type": "stream",
     "text": [
      "Found 919 validated image filenames.\n"
     ]
    }
   ],
   "source": [
    "test_gen = image_generator.flow_from_dataframe(\n",
    "    dataframe=test_df,\n",
    "    directory=None,\n",
    "    x_col='filepaths',\n",
    "    y_col= 'labels',          \n",
    "    target_size=IMG_SIZE,\n",
    "    class_mode='raw',        \n",
    "    batch_size=VALID_TEST_BATCH_SIZE,\n",
    "    color_mode='grayscale',\n",
    "    shuffle=False,  \n",
    "    seed=42 \n",
    ")"
   ]
  },
  {
   "cell_type": "code",
   "execution_count": 15,
   "id": "4d94d7dd-2eee-4ddf-b3bf-dc61f902255a",
   "metadata": {},
   "outputs": [],
   "source": [
    "def process_train_gen(train_gen):\n",
    "    # Duyệt qua từng batch trong train_gen\n",
    "    while True:\n",
    "        x_batch, y_batch = next(train_gen)\n",
    "      \n",
    "        yield x_batch, y_batch\n",
    "\n",
    "def process_valid_test_gen(valid_test_gen):\n",
    "    # Duyệt qua từng batch trong train_gen\n",
    "    while True:\n",
    "        x_batch, y_batch = next(valid_test_gen)\n",
    "        \n",
    "        yield x_batch, y_batch\n",
    "\n",
    "train_gen = process_train_gen(train_gen)\n",
    "valid_gen = process_valid_test_gen(valid_gen)\n",
    "test_gen = process_valid_test_gen(test_gen)"
   ]
  },
  {
   "cell_type": "code",
   "execution_count": 16,
   "id": "aef8e8b5-3ad9-4cf1-9bdd-f62c43ee1d49",
   "metadata": {},
   "outputs": [],
   "source": [
    "import os\n",
    "os.environ['TF_ENABLE_ONEDNN_OPTS'] = '0'\n",
    "\n",
    "# kernel_regularizer = l2(0.001)\n",
    "# from tensorflow.keras.regularizers import l2 \n",
    "from keras.src.layers import Layer, Dense\n",
    "import keras as kr\n",
    "import tensorflow as tf\n",
    "\n",
    "class Patches (Layer):\n",
    "  def __init__(self, patch_size):\n",
    "    super(Patches, self).__init__()\n",
    "    self.patch_size = patch_size\n",
    "\n",
    "  def call(self, images):\n",
    "    batch_size = tf.shape(images)[0]\n",
    "\n",
    "    patches = tf.image.extract_patches(\n",
    "      images=images,\n",
    "      sizes=[1, self.patch_size, self.patch_size, 1],\n",
    "      strides=[1, self.patch_size, self.patch_size, 1],\n",
    "      rates=[1, 1, 1, 1],\n",
    "      padding='VALID'\n",
    "    )\n",
    "\n",
    "    dim = patches.shape[-1]\n",
    "\n",
    "    patches = tf.reshape(patches, (batch_size, -1, dim))\n",
    "\n",
    "    return patches\n",
    "  \n",
    "class PatchEmbedding(Layer):\n",
    "  def __init__(self, patch_size, image_size, projection_dim):\n",
    "    super(PatchEmbedding, self).__init__()\n",
    "\n",
    "    self.num_patches = (image_size // patch_size) **2\n",
    "\n",
    "    self.cls_token = self.add_weight(\n",
    "      name=\"cls_token\",\n",
    "      shape=[1, 1, projection_dim],\n",
    "      initializer= kr.initializers.RandomNormal(),\n",
    "      dtype= tf.float32\n",
    "    )\n",
    "\n",
    "    self.patches = Patches(patch_size)\n",
    "\n",
    "    self.projection = Dense(units = projection_dim)\n",
    "\n",
    "    self.position_embdding = self.add_weight(\n",
    "      name=\"position_embeddings\",\n",
    "      shape=[self.num_patches +1, projection_dim],\n",
    "      initializer= kr.initializers.RandomNormal(),\n",
    "      dtype=tf.float32\n",
    "    )\n",
    "\n",
    "  def call(self, images):\n",
    "    patch= self.patches(images)\n",
    "\n",
    "    encoded_patches = self.projection(patch)\n",
    "\n",
    "    batch_size =  tf.shape(images)[0]\n",
    "\n",
    "    hidden_size = tf.shape(encoded_patches)[-1]\n",
    "\n",
    "    cls_broadcasted = tf.cast(\n",
    "      tf.broadcast_to(self.cls_token, [batch_size, 1, hidden_size]),\n",
    "      dtype=images.dtype\n",
    "    )\n",
    "\n",
    "    encoded_patches = tf.concat([cls_broadcasted, encoded_patches], axis=1)\n",
    "\n",
    "    encoded_patches += self.position_embdding\n",
    "\n",
    "    return encoded_patches    "
   ]
  },
  {
   "cell_type": "code",
   "execution_count": 17,
   "id": "2c99d86e-23aa-4de6-935a-8b3c39588c52",
   "metadata": {},
   "outputs": [],
   "source": [
    "import os\n",
    "os.environ['TF_ENABLE_ONEDNN_OPTS'] = '0'\n",
    "\n",
    "from keras.src.layers import Layer, LayerNormalization, MultiHeadAttention, Dense, Dropout\n",
    "from keras import Sequential\n",
    "\n",
    "import tensorflow as tf\n",
    "\n",
    "class MLPBlock(Layer):\n",
    "  def __init__(self, hidden_layers, dropout = 0.1, activation= 'gelu'):\n",
    "    super(MLPBlock, self).__init__()\n",
    "\n",
    "    layers= []\n",
    "    for num_units in hidden_layers:\n",
    "      layers.extend([\n",
    "        Dense(num_units, activation= activation),\n",
    "        Dropout(dropout)\n",
    "      ])\n",
    "\n",
    "    self.mlp = Sequential(layers)\n",
    "\n",
    "  def call(self, inputs):\n",
    "    outputs= self.mlp(inputs)\n",
    "    return outputs\n",
    "\n",
    "class TransformerBlock(Layer):\n",
    "  def __init__(self, num_heads, D, hidden_layers, dropout= 0.1, norm_eps= 1e-12):\n",
    "    super(TransformerBlock, self).__init__()\n",
    "\n",
    "    self.norm = LayerNormalization(epsilon=norm_eps)\n",
    "\n",
    "    self.attention = MultiHeadAttention(\n",
    "      num_heads=num_heads, key_dim=D // num_heads, dropout=dropout\n",
    "    )\n",
    "\n",
    "    self.mlp= MLPBlock(hidden_layers, dropout)\n",
    "\n",
    "  def call(self, inputs):\n",
    "    norm_attention = self.norm(inputs)\n",
    "\n",
    "    attention = self.attention(query= norm_attention, value = norm_attention)\n",
    "    \n",
    "    attention += inputs\n",
    "    \n",
    "    outputs= self.mlp(self.norm(attention))\n",
    "\n",
    "    outputs += attention\n",
    "\n",
    "    return outputs\n",
    "  \n",
    "class TransformerEncoder(Layer):\n",
    "  def __init__(self, num_layers, num_heads, D, mlp_dim, dropout= 0.1, norm_eps= 1e-12):\n",
    "    super(TransformerEncoder, self).__init__()\n",
    "\n",
    "    transformer_blocks = []\n",
    "    for _ in range(num_layers):\n",
    "      block = TransformerBlock(\n",
    "          num_heads=num_heads,\n",
    "          D= D,\n",
    "          hidden_layers= [mlp_dim, D],\n",
    "          dropout= dropout,\n",
    "          norm_eps= norm_eps\n",
    "      )\n",
    "\n",
    "      transformer_blocks.append(block)\n",
    "    self.encoder = Sequential(transformer_blocks)\n",
    "\n",
    "  def call(self, inputs):\n",
    "    outputs = self.encoder(inputs)\n",
    "    return outputs  \n",
    "\n"
   ]
  },
  {
   "cell_type": "code",
   "execution_count": 18,
   "id": "9988b2b9-5934-426a-8bb9-cf2eed416fbd",
   "metadata": {},
   "outputs": [],
   "source": [
    "# import os\n",
    "import sys\n",
    "os.environ['TF_ENABLE_ONEDNN_OPTS'] = '0'\n",
    "\n",
    "from keras.src.layers  import Dropout, Dense, LayerNormalization, Input\n",
    "from keras import Sequential\n",
    "import tensorflow as tf\n",
    "from keras import Model\n",
    "import keras\n",
    "from keras.saving import register_keras_serializable\n",
    "\n",
    "class ViT(Model):\n",
    "    def __init__(self, num_classes, num_layers= 6, num_heads= 8, D=128, mlp_dim= 640, patch_size= 4, image_size= 28, dropout= 0.2, norm_eps= 1e-12):\n",
    "    # def __init__(self, num_classes, num_layers= 8, num_heads= 6, D=64, mlp_dim= 256, patch_size= 4, image_size= 28, dropout= 0.1, norm_eps= 1e-12):\n",
    "        super(ViT, self).__init__()\n",
    "        \n",
    "        self.embedding= PatchEmbedding(patch_size, image_size, D)\n",
    "        \n",
    "        self.encoder = TransformerEncoder(\n",
    "          num_layers=num_layers,\n",
    "          num_heads=num_heads,\n",
    "          D=D,\n",
    "          mlp_dim=mlp_dim,\n",
    "          dropout=dropout,\n",
    "          norm_eps=norm_eps\n",
    "        )\n",
    "        \n",
    "        self.mlp_head = Sequential([\n",
    "          LayerNormalization(epsilon= norm_eps),\n",
    "          Dense(mlp_dim),\n",
    "          Dropout(dropout),\n",
    "          Dense(num_classes, activation='sigmoid')\n",
    "        ])\n",
    "        \n",
    "        self.last_layer_norm= LayerNormalization(epsilon=norm_eps)\n",
    "\n",
    "    def call(self, inputs):\n",
    "        # total_paramters = 0\n",
    "        embedded = self.embedding(inputs)\n",
    "    \n",
    "        encoded = self.encoder(embedded)\n",
    "    \n",
    "        embedded_cls = encoded[:, 0]\n",
    "    \n",
    "        y = self.last_layer_norm(embedded_cls)\n",
    "    \n",
    "        output = self.mlp_head(y)\n",
    "        \n",
    "        return output\n",
    "        \n",
    "class ViTBase(ViT):\n",
    "  def __init__(self, num_classes, patch_size=16, image_size=224, dropout=0.1, norm_eps=1e-12):\n",
    "    super().__init__(num_layers=12,\n",
    "                      num_heads=12,\n",
    "                      D=768,\n",
    "                      mlp_dim=3072,\n",
    "                      num_classes=num_classes,\n",
    "                      patch_size=patch_size,\n",
    "                      image_size=image_size,\n",
    "                      dropout=dropout,\n",
    "                      norm_eps=norm_eps)\n",
    "    \n",
    "class ViTLarge(ViT):\n",
    "  def __init__(self, num_classes, patch_size=16, image_size=224, dropout=0.1, norm_eps=1e-12):\n",
    "    super().__init__(num_layers=24,\n",
    "                      num_heads=16,\n",
    "                      D=1024,\n",
    "                      mlp_dim=4096,\n",
    "                      num_classes=num_classes,\n",
    "                      patch_size=patch_size,\n",
    "                      image_size=image_size,\n",
    "                      dropout=dropout,\n",
    "                      norm_eps=norm_eps)\n",
    "    \n",
    "class ViTHuge(ViT):\n",
    "  def __init__(self, num_classes, patch_size=16, image_size=224, dropout=0.1, norm_eps=1e-12):\n",
    "    super().__init__(num_layers=32,\n",
    "                      num_heads=16,\n",
    "                      D=1280,\n",
    "                      mlp_dim=5120,\n",
    "                      num_classes=num_classes,\n",
    "                      patch_size=patch_size,\n",
    "                      image_size=image_size,\n",
    "                      dropout=dropout,\n",
    "                      norm_eps=norm_eps)\n",
    "\n"
   ]
  },
  {
   "cell_type": "code",
   "execution_count": 19,
   "id": "17404fe8-a552-4ef7-b638-5c056707bc5d",
   "metadata": {},
   "outputs": [],
   "source": [
    "# import tensorflow as tf\n",
    "# class SAMModel(tf.keras.Model):\n",
    "#     def __init__(self, vit_model, rho=0.05):\n",
    "#         super(SAMModel, self).__init__()\n",
    "#         self.vit_model = vit_model\n",
    "#         self.rho = rho\n",
    "#         self.loss_tracker = tf.keras.metrics.Mean(name=\"loss\")\n",
    "#         self.accuracy = tf.keras.metrics.Accuracy()\n",
    "\n",
    "#     @property\n",
    "#     def metrics(self):\n",
    "#         return [self.loss_tracker, self.accuracy]\n",
    "        \n",
    "#     @tf.function\n",
    "#     def train_step(self, data):\n",
    "#         (images, labels) = data\n",
    "#         e_ws = []\n",
    "#         with tf.GradientTape() as tape:\n",
    "#             predictions = self.vit_model(images, training=True)\n",
    "#             loss = self.compute_loss(images, labels, predictions)\n",
    "#         trainable_params = self.vit_model.trainable_variables\n",
    "#         gradients = tape.gradient(loss, trainable_params)\n",
    "#         grad_norm = self._grad_norm(gradients)\n",
    "#         scale = self.rho / (grad_norm + 1e-12)\n",
    "    \n",
    "#         for (grad, param) in zip(gradients, trainable_params):\n",
    "#             e_w = grad * scale\n",
    "#             param.assign_add(e_w)\n",
    "#             e_ws.append(e_w)\n",
    "    \n",
    "#         with tf.GradientTape() as tape:\n",
    "#             predictions = self.vit_model(images)\n",
    "#             loss = self.compute_loss(images, labels, predictions)    \n",
    "        \n",
    "#         sam_gradients = tape.gradient(loss, trainable_params)\n",
    "#         for (param, e_w) in zip(trainable_params, e_ws):\n",
    "#             param.assign_sub(e_w)\n",
    "        \n",
    "#         self.optimizer.apply_gradients(\n",
    "#             zip(sam_gradients, trainable_params))\n",
    "        \n",
    "#         self.loss_tracker.update_state(loss)\n",
    "        \n",
    "#         binary_predictions = tf.cast(tf.greater(predictions, 0.5), tf.int32)\n",
    "#         self.accuracy.update_state(labels, binary_predictions)\n",
    "\n",
    "\n",
    "#         return {m.name: m.result() for m in self.metrics}   \n",
    "\n",
    "\n",
    "#     @tf.function\n",
    "#     def test_step(self, data):\n",
    "#         (images, labels) = data\n",
    "#         predictions = self.vit_model(images, training=False)\n",
    "#         loss = self.compute_loss(images, labels, predictions)\n",
    "        \n",
    "#         self.loss_tracker.update_state(loss)\n",
    "        \n",
    "#         binary_predictions = tf.cast(tf.greater(predictions, 0.5), tf.int32)\n",
    "#         self.accuracy.update_state(labels, binary_predictions)\n",
    "        \n",
    "#         return {m.name: m.result() for m in self.metrics}   \n",
    "    \n",
    "#     def _grad_norm(self, gradients):\n",
    "#         norm = tf.norm(\n",
    "#             tf.stack([\n",
    "#                 tf.norm(grad) for grad in gradients if grad is not None\n",
    "#             ])\n",
    "#         )\n",
    "#         return norm\n"
   ]
  },
  {
   "cell_type": "code",
   "execution_count": 19,
   "id": "03d15806-aa60-440c-bf03-7bca154b9630",
   "metadata": {},
   "outputs": [],
   "source": [
    "import math\n",
    "train_steps = math.ceil(train_df.shape[0] / TRAIN_BATCH_SIZE)\n",
    "validation_steps = math.ceil(valid_df.shape[0] / VALID_TEST_BATCH_SIZE)\n",
    "test_steps = math.ceil(test_df.shape[0] / VALID_TEST_BATCH_SIZE)"
   ]
  },
  {
   "cell_type": "code",
   "execution_count": 20,
   "id": "5f145f11-65f4-42bd-a02b-b1526de1b798",
   "metadata": {},
   "outputs": [
    {
     "name": "stdout",
     "output_type": "stream",
     "text": [
      "WARNING:tensorflow:From D:\\anaconda\\Lib\\site-packages\\keras\\src\\backend\\tensorflow\\core.py:222: The name tf.placeholder is deprecated. Please use tf.compat.v1.placeholder instead.\n",
      "\n"
     ]
    },
    {
     "data": {
      "text/html": [
       "<pre style=\"white-space:pre;overflow-x:auto;line-height:normal;font-family:Menlo,'DejaVu Sans Mono',consolas,'Courier New',monospace\"><span style=\"font-weight: bold\">Model: \"functional_8\"</span>\n",
       "</pre>\n"
      ],
      "text/plain": [
       "\u001b[1mModel: \"functional_8\"\u001b[0m\n"
      ]
     },
     "metadata": {},
     "output_type": "display_data"
    },
    {
     "data": {
      "text/html": [
       "<pre style=\"white-space:pre;overflow-x:auto;line-height:normal;font-family:Menlo,'DejaVu Sans Mono',consolas,'Courier New',monospace\">┏━━━━━━━━━━━━━━━━━━━━━━━━━━━━━━━━━━━━━━┳━━━━━━━━━━━━━━━━━━━━━━━━━━━━━┳━━━━━━━━━━━━━━━━━┓\n",
       "┃<span style=\"font-weight: bold\"> Layer (type)                         </span>┃<span style=\"font-weight: bold\"> Output Shape                </span>┃<span style=\"font-weight: bold\">         Param # </span>┃\n",
       "┡━━━━━━━━━━━━━━━━━━━━━━━━━━━━━━━━━━━━━━╇━━━━━━━━━━━━━━━━━━━━━━━━━━━━━╇━━━━━━━━━━━━━━━━━┩\n",
       "│ input_layer (<span style=\"color: #0087ff; text-decoration-color: #0087ff\">InputLayer</span>)             │ (<span style=\"color: #00d7ff; text-decoration-color: #00d7ff\">None</span>, <span style=\"color: #00af00; text-decoration-color: #00af00\">28</span>, <span style=\"color: #00af00; text-decoration-color: #00af00\">28</span>, <span style=\"color: #00af00; text-decoration-color: #00af00\">1</span>)           │               <span style=\"color: #00af00; text-decoration-color: #00af00\">0</span> │\n",
       "├──────────────────────────────────────┼─────────────────────────────┼─────────────────┤\n",
       "│ vi_t (<span style=\"color: #0087ff; text-decoration-color: #0087ff\">ViT</span>)                           │ (<span style=\"color: #00d7ff; text-decoration-color: #00d7ff\">None</span>, <span style=\"color: #00af00; text-decoration-color: #00af00\">1</span>)                   │       <span style=\"color: #00af00; text-decoration-color: #00af00\">1,477,889</span> │\n",
       "└──────────────────────────────────────┴─────────────────────────────┴─────────────────┘\n",
       "</pre>\n"
      ],
      "text/plain": [
       "┏━━━━━━━━━━━━━━━━━━━━━━━━━━━━━━━━━━━━━━┳━━━━━━━━━━━━━━━━━━━━━━━━━━━━━┳━━━━━━━━━━━━━━━━━┓\n",
       "┃\u001b[1m \u001b[0m\u001b[1mLayer (type)                        \u001b[0m\u001b[1m \u001b[0m┃\u001b[1m \u001b[0m\u001b[1mOutput Shape               \u001b[0m\u001b[1m \u001b[0m┃\u001b[1m \u001b[0m\u001b[1m        Param #\u001b[0m\u001b[1m \u001b[0m┃\n",
       "┡━━━━━━━━━━━━━━━━━━━━━━━━━━━━━━━━━━━━━━╇━━━━━━━━━━━━━━━━━━━━━━━━━━━━━╇━━━━━━━━━━━━━━━━━┩\n",
       "│ input_layer (\u001b[38;5;33mInputLayer\u001b[0m)             │ (\u001b[38;5;45mNone\u001b[0m, \u001b[38;5;34m28\u001b[0m, \u001b[38;5;34m28\u001b[0m, \u001b[38;5;34m1\u001b[0m)           │               \u001b[38;5;34m0\u001b[0m │\n",
       "├──────────────────────────────────────┼─────────────────────────────┼─────────────────┤\n",
       "│ vi_t (\u001b[38;5;33mViT\u001b[0m)                           │ (\u001b[38;5;45mNone\u001b[0m, \u001b[38;5;34m1\u001b[0m)                   │       \u001b[38;5;34m1,477,889\u001b[0m │\n",
       "└──────────────────────────────────────┴─────────────────────────────┴─────────────────┘\n"
      ]
     },
     "metadata": {},
     "output_type": "display_data"
    },
    {
     "data": {
      "text/html": [
       "<pre style=\"white-space:pre;overflow-x:auto;line-height:normal;font-family:Menlo,'DejaVu Sans Mono',consolas,'Courier New',monospace\"><span style=\"font-weight: bold\"> Total params: </span><span style=\"color: #00af00; text-decoration-color: #00af00\">1,477,889</span> (5.64 MB)\n",
       "</pre>\n"
      ],
      "text/plain": [
       "\u001b[1m Total params: \u001b[0m\u001b[38;5;34m1,477,889\u001b[0m (5.64 MB)\n"
      ]
     },
     "metadata": {},
     "output_type": "display_data"
    },
    {
     "data": {
      "text/html": [
       "<pre style=\"white-space:pre;overflow-x:auto;line-height:normal;font-family:Menlo,'DejaVu Sans Mono',consolas,'Courier New',monospace\"><span style=\"font-weight: bold\"> Trainable params: </span><span style=\"color: #00af00; text-decoration-color: #00af00\">1,477,889</span> (5.64 MB)\n",
       "</pre>\n"
      ],
      "text/plain": [
       "\u001b[1m Trainable params: \u001b[0m\u001b[38;5;34m1,477,889\u001b[0m (5.64 MB)\n"
      ]
     },
     "metadata": {},
     "output_type": "display_data"
    },
    {
     "data": {
      "text/html": [
       "<pre style=\"white-space:pre;overflow-x:auto;line-height:normal;font-family:Menlo,'DejaVu Sans Mono',consolas,'Courier New',monospace\"><span style=\"font-weight: bold\"> Non-trainable params: </span><span style=\"color: #00af00; text-decoration-color: #00af00\">0</span> (0.00 B)\n",
       "</pre>\n"
      ],
      "text/plain": [
       "\u001b[1m Non-trainable params: \u001b[0m\u001b[38;5;34m0\u001b[0m (0.00 B)\n"
      ]
     },
     "metadata": {},
     "output_type": "display_data"
    }
   ],
   "source": [
    "from keras.src.layers import Input \n",
    "from tensorflow.keras.metrics import BinaryAccuracy\n",
    "import tensorflow as tf\n",
    "\n",
    "\n",
    "img_size= 28\n",
    "channel = 1\n",
    "train_batch_size= TRAIN_BATCH_SIZE\n",
    "valid_test_batch_size= VALID_TEST_BATCH_SIZE\n",
    "\n",
    "inputs = Input(shape=(img_size, img_size, channel)) \n",
    "vit_model = ViT(\n",
    "      num_classes=1,\n",
    "      image_size= img_size\n",
    "  )\n",
    "\n",
    "outputs = vit_model(inputs)  \n",
    "\n",
    "model = Model(inputs=inputs, outputs=outputs)\n",
    "\n",
    "# optimizer = kr.optimizers.AdamW(\n",
    "#     learning_rate=0.001, weight_decay=1e-4\n",
    "#   )\n",
    "\n",
    "# best hyper\n",
    "optimizer = kr.optimizers.AdamW(\n",
    "    learning_rate=0.0002957, weight_decay=1.9091e-06\n",
    "  )\n",
    "\n",
    "model.compile(\n",
    "    optimizer=optimizer, \n",
    "    loss='binary_crossentropy', \n",
    "    metrics=['accuracy']\n",
    ")\n",
    "\n",
    "\n",
    "model.summary()"
   ]
  },
  {
   "cell_type": "code",
   "execution_count": 21,
   "id": "9731d0c3-8f9d-419d-8769-b799ca08b263",
   "metadata": {},
   "outputs": [],
   "source": [
    "from tensorflow.keras.callbacks import ModelCheckpoint, LearningRateScheduler, EarlyStopping, ReduceLROnPlateau\n",
    "weight_path = \"{}_weights.best.weights.h5\".format('vit_pneumonia')\n",
    "# weight_path = \"{}_weights.best.weights.h5\".format('hyper_param')\n",
    "\n",
    "\n",
    "checkpoint = ModelCheckpoint(weight_path, monitor='val_loss', verbose=1, \n",
    "                             save_best_only=True, mode='min', save_weights_only = True)\n",
    "\n",
    "early = EarlyStopping(monitor=\"val_loss\", \n",
    "                      mode=\"min\", \n",
    "                      patience=5)\n",
    "\n",
    "reduce = ReduceLROnPlateau(\n",
    "        monitor=\"val_loss\", factor=0.1,\n",
    "        patience=2, verbose=1\n",
    "    )\n",
    "\n",
    "callbacks_list = [checkpoint, early, reduce]\n"
   ]
  },
  {
   "cell_type": "code",
   "execution_count": 26,
   "id": "ffb79128-987a-4eb0-9dd2-ab4f6580e2dd",
   "metadata": {
    "scrolled": true
   },
   "outputs": [
    {
     "name": "stdout",
     "output_type": "stream",
     "text": [
      "Epoch 1/100\n",
      "\u001b[1m230/230\u001b[0m \u001b[32m━━━━━━━━━━━━━━━━━━━━\u001b[0m\u001b[37m\u001b[0m \u001b[1m0s\u001b[0m 602ms/step - accuracy: 0.5130 - loss: 0.7635\n",
      "Epoch 1: val_loss improved from inf to 0.58638, saving model to vit_pneumonia_weights.best.weights.h5\n",
      "\u001b[1m230/230\u001b[0m \u001b[32m━━━━━━━━━━━━━━━━━━━━\u001b[0m\u001b[37m\u001b[0m \u001b[1m168s\u001b[0m 648ms/step - accuracy: 0.5130 - loss: 0.7634 - val_accuracy: 0.7312 - val_loss: 0.5864 - learning_rate: 2.9570e-04\n",
      "Epoch 2/100\n",
      "\u001b[1m230/230\u001b[0m \u001b[32m━━━━━━━━━━━━━━━━━━━━\u001b[0m\u001b[37m\u001b[0m \u001b[1m0s\u001b[0m 599ms/step - accuracy: 0.6498 - loss: 0.6372\n",
      "Epoch 2: val_loss improved from 0.58638 to 0.50604, saving model to vit_pneumonia_weights.best.weights.h5\n",
      "\u001b[1m230/230\u001b[0m \u001b[32m━━━━━━━━━━━━━━━━━━━━\u001b[0m\u001b[37m\u001b[0m \u001b[1m147s\u001b[0m 638ms/step - accuracy: 0.6499 - loss: 0.6371 - val_accuracy: 0.7726 - val_loss: 0.5060 - learning_rate: 2.9570e-04\n",
      "Epoch 3/100\n",
      "\u001b[1m230/230\u001b[0m \u001b[32m━━━━━━━━━━━━━━━━━━━━\u001b[0m\u001b[37m\u001b[0m \u001b[1m0s\u001b[0m 592ms/step - accuracy: 0.7196 - loss: 0.5684\n",
      "Epoch 3: val_loss improved from 0.50604 to 0.47557, saving model to vit_pneumonia_weights.best.weights.h5\n",
      "\u001b[1m230/230\u001b[0m \u001b[32m━━━━━━━━━━━━━━━━━━━━\u001b[0m\u001b[37m\u001b[0m \u001b[1m145s\u001b[0m 632ms/step - accuracy: 0.7196 - loss: 0.5684 - val_accuracy: 0.7900 - val_loss: 0.4756 - learning_rate: 2.9570e-04\n",
      "Epoch 4/100\n",
      "\u001b[1m230/230\u001b[0m \u001b[32m━━━━━━━━━━━━━━━━━━━━\u001b[0m\u001b[37m\u001b[0m \u001b[1m0s\u001b[0m 588ms/step - accuracy: 0.7335 - loss: 0.5466\n",
      "Epoch 4: val_loss did not improve from 0.47557\n",
      "\u001b[1m230/230\u001b[0m \u001b[32m━━━━━━━━━━━━━━━━━━━━\u001b[0m\u001b[37m\u001b[0m \u001b[1m145s\u001b[0m 630ms/step - accuracy: 0.7335 - loss: 0.5465 - val_accuracy: 0.7922 - val_loss: 0.5010 - learning_rate: 2.9570e-04\n",
      "Epoch 5/100\n",
      "\u001b[1m230/230\u001b[0m \u001b[32m━━━━━━━━━━━━━━━━━━━━\u001b[0m\u001b[37m\u001b[0m \u001b[1m0s\u001b[0m 576ms/step - accuracy: 0.7566 - loss: 0.5152\n",
      "Epoch 5: val_loss improved from 0.47557 to 0.45480, saving model to vit_pneumonia_weights.best.weights.h5\n",
      "\u001b[1m230/230\u001b[0m \u001b[32m━━━━━━━━━━━━━━━━━━━━\u001b[0m\u001b[37m\u001b[0m \u001b[1m142s\u001b[0m 618ms/step - accuracy: 0.7566 - loss: 0.5151 - val_accuracy: 0.8052 - val_loss: 0.4548 - learning_rate: 2.9570e-04\n",
      "Epoch 6/100\n",
      "\u001b[1m230/230\u001b[0m \u001b[32m━━━━━━━━━━━━━━━━━━━━\u001b[0m\u001b[37m\u001b[0m \u001b[1m0s\u001b[0m 614ms/step - accuracy: 0.7718 - loss: 0.5061\n",
      "Epoch 6: val_loss improved from 0.45480 to 0.43211, saving model to vit_pneumonia_weights.best.weights.h5\n",
      "\u001b[1m230/230\u001b[0m \u001b[32m━━━━━━━━━━━━━━━━━━━━\u001b[0m\u001b[37m\u001b[0m \u001b[1m152s\u001b[0m 663ms/step - accuracy: 0.7718 - loss: 0.5061 - val_accuracy: 0.8063 - val_loss: 0.4321 - learning_rate: 2.9570e-04\n",
      "Epoch 7/100\n",
      "\u001b[1m230/230\u001b[0m \u001b[32m━━━━━━━━━━━━━━━━━━━━\u001b[0m\u001b[37m\u001b[0m \u001b[1m0s\u001b[0m 722ms/step - accuracy: 0.7931 - loss: 0.4727\n",
      "Epoch 7: val_loss improved from 0.43211 to 0.42035, saving model to vit_pneumonia_weights.best.weights.h5\n",
      "\u001b[1m230/230\u001b[0m \u001b[32m━━━━━━━━━━━━━━━━━━━━\u001b[0m\u001b[37m\u001b[0m \u001b[1m178s\u001b[0m 774ms/step - accuracy: 0.7931 - loss: 0.4727 - val_accuracy: 0.8096 - val_loss: 0.4204 - learning_rate: 2.9570e-04\n",
      "Epoch 8/100\n",
      "\u001b[1m230/230\u001b[0m \u001b[32m━━━━━━━━━━━━━━━━━━━━\u001b[0m\u001b[37m\u001b[0m \u001b[1m0s\u001b[0m 654ms/step - accuracy: 0.7922 - loss: 0.4669\n",
      "Epoch 8: val_loss improved from 0.42035 to 0.41760, saving model to vit_pneumonia_weights.best.weights.h5\n",
      "\u001b[1m230/230\u001b[0m \u001b[32m━━━━━━━━━━━━━━━━━━━━\u001b[0m\u001b[37m\u001b[0m \u001b[1m161s\u001b[0m 701ms/step - accuracy: 0.7922 - loss: 0.4670 - val_accuracy: 0.8248 - val_loss: 0.4176 - learning_rate: 2.9570e-04\n",
      "Epoch 9/100\n",
      "\u001b[1m230/230\u001b[0m \u001b[32m━━━━━━━━━━━━━━━━━━━━\u001b[0m\u001b[37m\u001b[0m \u001b[1m0s\u001b[0m 754ms/step - accuracy: 0.7936 - loss: 0.4505\n",
      "Epoch 9: val_loss improved from 0.41760 to 0.39170, saving model to vit_pneumonia_weights.best.weights.h5\n",
      "\u001b[1m230/230\u001b[0m \u001b[32m━━━━━━━━━━━━━━━━━━━━\u001b[0m\u001b[37m\u001b[0m \u001b[1m184s\u001b[0m 801ms/step - accuracy: 0.7936 - loss: 0.4505 - val_accuracy: 0.8335 - val_loss: 0.3917 - learning_rate: 2.9570e-04\n",
      "Epoch 10/100\n",
      "\u001b[1m230/230\u001b[0m \u001b[32m━━━━━━━━━━━━━━━━━━━━\u001b[0m\u001b[37m\u001b[0m \u001b[1m0s\u001b[0m 707ms/step - accuracy: 0.7984 - loss: 0.4592\n",
      "Epoch 10: val_loss did not improve from 0.39170\n",
      "\u001b[1m230/230\u001b[0m \u001b[32m━━━━━━━━━━━━━━━━━━━━\u001b[0m\u001b[37m\u001b[0m \u001b[1m173s\u001b[0m 754ms/step - accuracy: 0.7985 - loss: 0.4592 - val_accuracy: 0.8128 - val_loss: 0.4260 - learning_rate: 2.9570e-04\n",
      "Epoch 11/100\n",
      "\u001b[1m230/230\u001b[0m \u001b[32m━━━━━━━━━━━━━━━━━━━━\u001b[0m\u001b[37m\u001b[0m \u001b[1m0s\u001b[0m 632ms/step - accuracy: 0.8052 - loss: 0.4466\n",
      "Epoch 11: val_loss improved from 0.39170 to 0.36963, saving model to vit_pneumonia_weights.best.weights.h5\n",
      "\u001b[1m230/230\u001b[0m \u001b[32m━━━━━━━━━━━━━━━━━━━━\u001b[0m\u001b[37m\u001b[0m \u001b[1m155s\u001b[0m 675ms/step - accuracy: 0.8052 - loss: 0.4465 - val_accuracy: 0.8466 - val_loss: 0.3696 - learning_rate: 2.9570e-04\n",
      "Epoch 12/100\n",
      "\u001b[1m230/230\u001b[0m \u001b[32m━━━━━━━━━━━━━━━━━━━━\u001b[0m\u001b[37m\u001b[0m \u001b[1m0s\u001b[0m 579ms/step - accuracy: 0.8117 - loss: 0.4305\n",
      "Epoch 12: val_loss improved from 0.36963 to 0.35581, saving model to vit_pneumonia_weights.best.weights.h5\n",
      "\u001b[1m230/230\u001b[0m \u001b[32m━━━━━━━━━━━━━━━━━━━━\u001b[0m\u001b[37m\u001b[0m \u001b[1m143s\u001b[0m 622ms/step - accuracy: 0.8117 - loss: 0.4305 - val_accuracy: 0.8509 - val_loss: 0.3558 - learning_rate: 2.9570e-04\n",
      "Epoch 13/100\n",
      "\u001b[1m230/230\u001b[0m \u001b[32m━━━━━━━━━━━━━━━━━━━━\u001b[0m\u001b[37m\u001b[0m \u001b[1m0s\u001b[0m 575ms/step - accuracy: 0.8145 - loss: 0.4216\n",
      "Epoch 13: val_loss improved from 0.35581 to 0.35474, saving model to vit_pneumonia_weights.best.weights.h5\n",
      "\u001b[1m230/230\u001b[0m \u001b[32m━━━━━━━━━━━━━━━━━━━━\u001b[0m\u001b[37m\u001b[0m \u001b[1m142s\u001b[0m 618ms/step - accuracy: 0.8145 - loss: 0.4216 - val_accuracy: 0.8542 - val_loss: 0.3547 - learning_rate: 2.9570e-04\n",
      "Epoch 14/100\n",
      "\u001b[1m230/230\u001b[0m \u001b[32m━━━━━━━━━━━━━━━━━━━━\u001b[0m\u001b[37m\u001b[0m \u001b[1m0s\u001b[0m 572ms/step - accuracy: 0.8294 - loss: 0.4057\n",
      "Epoch 14: val_loss did not improve from 0.35474\n",
      "\u001b[1m230/230\u001b[0m \u001b[32m━━━━━━━━━━━━━━━━━━━━\u001b[0m\u001b[37m\u001b[0m \u001b[1m141s\u001b[0m 613ms/step - accuracy: 0.8294 - loss: 0.4057 - val_accuracy: 0.8444 - val_loss: 0.3720 - learning_rate: 2.9570e-04\n",
      "Epoch 15/100\n",
      "\u001b[1m230/230\u001b[0m \u001b[32m━━━━━━━━━━━━━━━━━━━━\u001b[0m\u001b[37m\u001b[0m \u001b[1m0s\u001b[0m 571ms/step - accuracy: 0.8302 - loss: 0.4037\n",
      "Epoch 15: val_loss improved from 0.35474 to 0.32392, saving model to vit_pneumonia_weights.best.weights.h5\n",
      "\u001b[1m230/230\u001b[0m \u001b[32m━━━━━━━━━━━━━━━━━━━━\u001b[0m\u001b[37m\u001b[0m \u001b[1m142s\u001b[0m 616ms/step - accuracy: 0.8302 - loss: 0.4036 - val_accuracy: 0.8683 - val_loss: 0.3239 - learning_rate: 2.9570e-04\n",
      "Epoch 16/100\n",
      "\u001b[1m230/230\u001b[0m \u001b[32m━━━━━━━━━━━━━━━━━━━━\u001b[0m\u001b[37m\u001b[0m \u001b[1m0s\u001b[0m 569ms/step - accuracy: 0.8321 - loss: 0.3933\n",
      "Epoch 16: val_loss improved from 0.32392 to 0.31972, saving model to vit_pneumonia_weights.best.weights.h5\n",
      "\u001b[1m230/230\u001b[0m \u001b[32m━━━━━━━━━━━━━━━━━━━━\u001b[0m\u001b[37m\u001b[0m \u001b[1m141s\u001b[0m 614ms/step - accuracy: 0.8320 - loss: 0.3934 - val_accuracy: 0.8803 - val_loss: 0.3197 - learning_rate: 2.9570e-04\n",
      "Epoch 17/100\n",
      "\u001b[1m230/230\u001b[0m \u001b[32m━━━━━━━━━━━━━━━━━━━━\u001b[0m\u001b[37m\u001b[0m \u001b[1m0s\u001b[0m 568ms/step - accuracy: 0.8494 - loss: 0.3628\n",
      "Epoch 17: val_loss did not improve from 0.31972\n",
      "\u001b[1m230/230\u001b[0m \u001b[32m━━━━━━━━━━━━━━━━━━━━\u001b[0m\u001b[37m\u001b[0m \u001b[1m140s\u001b[0m 608ms/step - accuracy: 0.8494 - loss: 0.3629 - val_accuracy: 0.8433 - val_loss: 0.3607 - learning_rate: 2.9570e-04\n",
      "Epoch 18/100\n",
      "\u001b[1m230/230\u001b[0m \u001b[32m━━━━━━━━━━━━━━━━━━━━\u001b[0m\u001b[37m\u001b[0m \u001b[1m0s\u001b[0m 572ms/step - accuracy: 0.8444 - loss: 0.3700\n",
      "Epoch 18: val_loss did not improve from 0.31972\n",
      "\n",
      "Epoch 18: ReduceLROnPlateau reducing learning rate to 2.9570001061074436e-05.\n",
      "\u001b[1m230/230\u001b[0m \u001b[32m━━━━━━━━━━━━━━━━━━━━\u001b[0m\u001b[37m\u001b[0m \u001b[1m141s\u001b[0m 615ms/step - accuracy: 0.8444 - loss: 0.3700 - val_accuracy: 0.8618 - val_loss: 0.3343 - learning_rate: 2.9570e-04\n",
      "Epoch 19/100\n",
      "\u001b[1m230/230\u001b[0m \u001b[32m━━━━━━━━━━━━━━━━━━━━\u001b[0m\u001b[37m\u001b[0m \u001b[1m0s\u001b[0m 570ms/step - accuracy: 0.8518 - loss: 0.3614\n",
      "Epoch 19: val_loss improved from 0.31972 to 0.28313, saving model to vit_pneumonia_weights.best.weights.h5\n",
      "\u001b[1m230/230\u001b[0m \u001b[32m━━━━━━━━━━━━━━━━━━━━\u001b[0m\u001b[37m\u001b[0m \u001b[1m141s\u001b[0m 613ms/step - accuracy: 0.8518 - loss: 0.3614 - val_accuracy: 0.8955 - val_loss: 0.2831 - learning_rate: 2.9570e-05\n",
      "Epoch 20/100\n",
      "\u001b[1m230/230\u001b[0m \u001b[32m━━━━━━━━━━━━━━━━━━━━\u001b[0m\u001b[37m\u001b[0m \u001b[1m0s\u001b[0m 636ms/step - accuracy: 0.8629 - loss: 0.3487\n",
      "Epoch 20: val_loss improved from 0.28313 to 0.28042, saving model to vit_pneumonia_weights.best.weights.h5\n",
      "\u001b[1m230/230\u001b[0m \u001b[32m━━━━━━━━━━━━━━━━━━━━\u001b[0m\u001b[37m\u001b[0m \u001b[1m157s\u001b[0m 683ms/step - accuracy: 0.8629 - loss: 0.3487 - val_accuracy: 0.8923 - val_loss: 0.2804 - learning_rate: 2.9570e-05\n",
      "Epoch 21/100\n",
      "\u001b[1m230/230\u001b[0m \u001b[32m━━━━━━━━━━━━━━━━━━━━\u001b[0m\u001b[37m\u001b[0m \u001b[1m0s\u001b[0m 659ms/step - accuracy: 0.8664 - loss: 0.3352\n",
      "Epoch 21: val_loss did not improve from 0.28042\n",
      "\u001b[1m230/230\u001b[0m \u001b[32m━━━━━━━━━━━━━━━━━━━━\u001b[0m\u001b[37m\u001b[0m \u001b[1m162s\u001b[0m 704ms/step - accuracy: 0.8664 - loss: 0.3352 - val_accuracy: 0.8803 - val_loss: 0.2946 - learning_rate: 2.9570e-05\n",
      "Epoch 22/100\n",
      "\u001b[1m230/230\u001b[0m \u001b[32m━━━━━━━━━━━━━━━━━━━━\u001b[0m\u001b[37m\u001b[0m \u001b[1m0s\u001b[0m 653ms/step - accuracy: 0.8674 - loss: 0.3313\n",
      "Epoch 22: val_loss improved from 0.28042 to 0.27414, saving model to vit_pneumonia_weights.best.weights.h5\n",
      "\u001b[1m230/230\u001b[0m \u001b[32m━━━━━━━━━━━━━━━━━━━━\u001b[0m\u001b[37m\u001b[0m \u001b[1m161s\u001b[0m 700ms/step - accuracy: 0.8674 - loss: 0.3313 - val_accuracy: 0.8879 - val_loss: 0.2741 - learning_rate: 2.9570e-05\n",
      "Epoch 23/100\n",
      "\u001b[1m230/230\u001b[0m \u001b[32m━━━━━━━━━━━━━━━━━━━━\u001b[0m\u001b[37m\u001b[0m \u001b[1m0s\u001b[0m 673ms/step - accuracy: 0.8546 - loss: 0.3469\n",
      "Epoch 23: val_loss did not improve from 0.27414\n",
      "\u001b[1m230/230\u001b[0m \u001b[32m━━━━━━━━━━━━━━━━━━━━\u001b[0m\u001b[37m\u001b[0m \u001b[1m165s\u001b[0m 720ms/step - accuracy: 0.8546 - loss: 0.3469 - val_accuracy: 0.8923 - val_loss: 0.2759 - learning_rate: 2.9570e-05\n",
      "Epoch 24/100\n",
      "\u001b[1m230/230\u001b[0m \u001b[32m━━━━━━━━━━━━━━━━━━━━\u001b[0m\u001b[37m\u001b[0m \u001b[1m0s\u001b[0m 690ms/step - accuracy: 0.8594 - loss: 0.3404\n",
      "Epoch 24: val_loss did not improve from 0.27414\n",
      "\n",
      "Epoch 24: ReduceLROnPlateau reducing learning rate to 2.9570001061074436e-06.\n",
      "\u001b[1m230/230\u001b[0m \u001b[32m━━━━━━━━━━━━━━━━━━━━\u001b[0m\u001b[37m\u001b[0m \u001b[1m170s\u001b[0m 738ms/step - accuracy: 0.8594 - loss: 0.3404 - val_accuracy: 0.8836 - val_loss: 0.2956 - learning_rate: 2.9570e-05\n",
      "Epoch 25/100\n",
      "\u001b[1m230/230\u001b[0m \u001b[32m━━━━━━━━━━━━━━━━━━━━\u001b[0m\u001b[37m\u001b[0m \u001b[1m0s\u001b[0m 715ms/step - accuracy: 0.8742 - loss: 0.3294\n",
      "Epoch 25: val_loss did not improve from 0.27414\n",
      "\u001b[1m230/230\u001b[0m \u001b[32m━━━━━━━━━━━━━━━━━━━━\u001b[0m\u001b[37m\u001b[0m \u001b[1m175s\u001b[0m 762ms/step - accuracy: 0.8742 - loss: 0.3295 - val_accuracy: 0.8923 - val_loss: 0.2787 - learning_rate: 2.9570e-06\n",
      "Epoch 26/100\n",
      "\u001b[1m230/230\u001b[0m \u001b[32m━━━━━━━━━━━━━━━━━━━━\u001b[0m\u001b[37m\u001b[0m \u001b[1m0s\u001b[0m 658ms/step - accuracy: 0.8692 - loss: 0.3420\n",
      "Epoch 26: val_loss did not improve from 0.27414\n",
      "\n",
      "Epoch 26: ReduceLROnPlateau reducing learning rate to 2.957000106107444e-07.\n",
      "\u001b[1m230/230\u001b[0m \u001b[32m━━━━━━━━━━━━━━━━━━━━\u001b[0m\u001b[37m\u001b[0m \u001b[1m161s\u001b[0m 703ms/step - accuracy: 0.8691 - loss: 0.3420 - val_accuracy: 0.8868 - val_loss: 0.2783 - learning_rate: 2.9570e-06\n",
      "Epoch 27/100\n",
      "\u001b[1m230/230\u001b[0m \u001b[32m━━━━━━━━━━━━━━━━━━━━\u001b[0m\u001b[37m\u001b[0m \u001b[1m0s\u001b[0m 621ms/step - accuracy: 0.8713 - loss: 0.3346\n",
      "Epoch 27: val_loss did not improve from 0.27414\n",
      "\u001b[1m230/230\u001b[0m \u001b[32m━━━━━━━━━━━━━━━━━━━━\u001b[0m\u001b[37m\u001b[0m \u001b[1m153s\u001b[0m 667ms/step - accuracy: 0.8713 - loss: 0.3346 - val_accuracy: 0.8868 - val_loss: 0.2783 - learning_rate: 2.9570e-07\n"
     ]
    }
   ],
   "source": [
    "# vit\n",
    "history = model.fit(train_gen,\n",
    "            steps_per_epoch=train_steps,\n",
    "            validation_data=valid_gen,\n",
    "            validation_steps=validation_steps,\n",
    "            epochs=100,\n",
    "            callbacks=callbacks_list\n",
    "           )\n"
   ]
  },
  {
   "cell_type": "code",
   "execution_count": 27,
   "id": "5076e48a-c2e0-4063-987b-aa7e40dde99f",
   "metadata": {},
   "outputs": [
    {
     "data": {
      "image/png": "[encoded data removed]",
      "text/plain": [
       "<Figure size 640x480 with 1 Axes>"
      ]
     },
     "metadata": {},
     "output_type": "display_data"
    }
   ],
   "source": [
    "# vit\n",
    "def plot_history_accuracy(history):\n",
    "    plt.plot(history.history[\"accuracy\"], label=\"Training Accuracy\")\n",
    "    plt.plot(history.history[\"val_accuracy\"], label=\"Validation Accuracy\")\n",
    "    plt.legend()\n",
    "    plt.grid()\n",
    "    plt.show()\n",
    "\n",
    "plot_history_accuracy(history=history)"
   ]
  },
  {
   "cell_type": "code",
   "execution_count": 28,
   "id": "82c5e302-4722-4cf5-a0bc-50cac8b5af32",
   "metadata": {},
   "outputs": [
    {
     "data": {
      "image/png": "[encoded data removed]",
      "text/plain": [
       "<Figure size 640x480 with 1 Axes>"
      ]
     },
     "metadata": {},
     "output_type": "display_data"
    }
   ],
   "source": [
    "# vit\n",
    "def plot_history_loss(history):\n",
    "    plt.plot(history.history[\"loss\"], label=\"Training Loss\")\n",
    "    plt.plot(history.history[\"val_loss\"], label=\"Validation Loss\")\n",
    "    plt.legend()\n",
    "    plt.grid()\n",
    "    plt.show()\n",
    "\n",
    "plot_history_loss(history=history)"
   ]
  },
  {
   "cell_type": "code",
   "execution_count": 29,
   "id": "83c69250-168e-405f-8d96-e66c7e56dd18",
   "metadata": {
    "scrolled": true
   },
   "outputs": [
    {
     "name": "stdout",
     "output_type": "stream",
     "text": [
      "\u001b[1m29/29\u001b[0m \u001b[32m━━━━━━━━━━━━━━━━━━━━\u001b[0m\u001b[37m\u001b[0m \u001b[1m11s\u001b[0m 362ms/step\n"
     ]
    }
   ],
   "source": [
    "# vit\n",
    "predictions = model.predict(test_gen, steps=test_steps ,verbose = True)\n",
    "predictions = (predictions >= 0.5).astype(int)"
   ]
  },
  {
   "cell_type": "code",
   "execution_count": 28,
   "id": "e5792070-e7d0-4db4-82d0-55c5bb77b6f7",
   "metadata": {},
   "outputs": [
    {
     "name": "stdout",
     "output_type": "stream",
     "text": [
      "                     precision    recall  f1-score   support\n",
      "\n",
      "   Normal (Class 0)       0.86      0.92      0.89       460\n",
      "Pneumonia (Class 1)       0.91      0.85      0.88       459\n",
      "\n",
      "           accuracy                           0.88       919\n",
      "          macro avg       0.89      0.88      0.88       919\n",
      "       weighted avg       0.89      0.88      0.88       919\n",
      "\n"
     ]
    }
   ],
   "source": [
    "# sam\n",
    "print(classification_report(test_labels, predictions, target_names=['Normal (Class 0)', 'Pneumonia (Class 1)']))"
   ]
  },
  {
   "cell_type": "code",
   "execution_count": 30,
   "id": "ed1ee29c-5450-4624-bfe6-1bfed9dfee08",
   "metadata": {},
   "outputs": [
    {
     "name": "stdout",
     "output_type": "stream",
     "text": [
      "                     precision    recall  f1-score   support\n",
      "\n",
      "   Normal (Class 0)       0.84      0.94      0.89       460\n",
      "Pneumonia (Class 1)       0.93      0.82      0.87       459\n",
      "\n",
      "           accuracy                           0.88       919\n",
      "          macro avg       0.89      0.88      0.88       919\n",
      "       weighted avg       0.89      0.88      0.88       919\n",
      "\n"
     ]
    }
   ],
   "source": [
    "# vit\n",
    "print(classification_report(test_labels, predictions, target_names=['Normal (Class 0)', 'Pneumonia (Class 1)']))"
   ]
  },
  {
   "cell_type": "code",
   "execution_count": 31,
   "id": "c23af414-1f18-4b92-8ffa-898632f771cf",
   "metadata": {},
   "outputs": [
    {
     "data": {
      "text/plain": [
       "array([[431,  29],\n",
       "       [ 81, 378]], dtype=int64)"
      ]
     },
     "execution_count": 31,
     "metadata": {},
     "output_type": "execute_result"
    }
   ],
   "source": [
    "# vit\n",
    "cm = confusion_matrix(test_labels,predictions)\n",
    "cm"
   ]
  },
  {
   "cell_type": "code",
   "execution_count": 30,
   "id": "0366d828-9628-45bf-8f10-f404d76e3b5b",
   "metadata": {},
   "outputs": [],
   "source": [
    "cm = pd.DataFrame(cm, index=['0', '1'], columns=['0', '1'])"
   ]
  },
  {
   "cell_type": "code",
   "execution_count": 33,
   "id": "5032ea0e-963b-425e-a1d0-a1767bd0cca0",
   "metadata": {},
   "outputs": [
    {
     "data": {
      "image/png": "[encoded data removed]",
      "text/plain": [
       "<Figure size 1000x1000 with 2 Axes>"
      ]
     },
     "metadata": {},
     "output_type": "display_data"
    }
   ],
   "source": [
    "# vit\n",
    "plt.figure(figsize=(10, 10))\n",
    "sns.heatmap(cm, cmap=\"Blues\", linecolor='black', linewidth=1, annot=True, fmt='d', xticklabels=cm.columns, yticklabels=cm.index)\n",
    "plt.title('Confusion Matrix')\n",
    "plt.show()"
   ]
  },
  {
   "cell_type": "code",
   "execution_count": 29,
   "id": "87dd61ac-1203-4b15-a6d1-37f6691e6ec2",
   "metadata": {},
   "outputs": [],
   "source": [
    "# # # load the best weights\n",
    "# model.load_weights('vit_pneumonia_weights.best.weights.h5')"
   ]
  },
  {
   "cell_type": "code",
   "execution_count": null,
   "id": "5a745429-aabf-4412-9f32-4d73ed63d815",
   "metadata": {},
   "outputs": [],
   "source": []
  },
  {
   "cell_type": "code",
   "execution_count": 22,
   "id": "b703b9c0-41cf-42d7-9cbc-0cffe16a5784",
   "metadata": {},
   "outputs": [
    {
     "name": "stdout",
     "output_type": "stream",
     "text": [
      "Trial 254 Complete [00h 27m 07s]\n",
      "val_accuracy: 0.8367791175842285\n",
      "\n",
      "Best val_accuracy So Far: 0.8944504857063293\n",
      "Total elapsed time: 7d 17h 16m 46s\n"
     ]
    },
    {
     "name": "stderr",
     "output_type": "stream",
     "text": [
      "D:\\anaconda\\Lib\\site-packages\\keras\\src\\saving\\saving_lib.py:757: UserWarning: Skipping variable loading for optimizer 'adamw', because it has 2 variables whereas the saved optimizer has 194 variables. \n",
      "  saveable.load_own_variables(weights_store.get(inner_path))\n"
     ]
    },
    {
     "name": "stdout",
     "output_type": "stream",
     "text": [
      "Best hyperparameters: {'num_layers': 6, 'num_heads': 8, 'D': 128, 'mlp_dim': 640, 'patch_size': 4, 'dropout': 0.2, 'learning_rate': 0.0002956959895066203, 'weight_decay': 1.909116236190611e-06, 'tuner/epochs': 100, 'tuner/initial_epoch': 34, 'tuner/bracket': 2, 'tuner/round': 2, 'tuner/trial_id': '0228'}\n"
     ]
    }
   ],
   "source": [
    "import keras_tuner as kt\n",
    "import tensorflow as tf\n",
    "from keras.src.layers import Layer, LayerNormalization, MultiHeadAttention, Dense, Dropout\n",
    "from keras import Sequential\n",
    "from keras import Model\n",
    "from tensorflow.keras.optimizers import AdamW\n",
    "from tensorflow.keras.layers import Input\n",
    "\n",
    "# def __init__(self, num_classes, num_layers= 8, num_heads= 6, D=64, mlp_dim= 256, patch_size= 4, image_size= 28, dropout= 0.1, norm_eps= 1e-12):\n",
    "\n",
    "# Define your ViT model function to use hyperparameters\n",
    "def build_vit_model(hp):\n",
    "    # Hyperparameters\n",
    "    num_classes = 1  \n",
    "    num_layers = hp.Int('num_layers', min_value=4, max_value=12, step=2)\n",
    "    num_heads = hp.Int('num_heads', min_value=4, max_value=12, step=2)\n",
    "    D = hp.Int('D', min_value=32, max_value=768, step=32)\n",
    "    mlp_dim = hp.Int('mlp_dim', min_value=128, max_value=2048, step=128)\n",
    "    patch_size = hp.Int('patch_size', min_value=4, max_value=16, step=4)\n",
    "    image_size = 28\n",
    "    dropout = hp.Float('dropout', min_value=0.1, max_value=0.5, step=0.1)\n",
    "    norm_eps = 1e-12\n",
    "\n",
    "    img_size = image_size\n",
    "    channel = 1\n",
    "    train_batch_size= TRAIN_BATCH_SIZE\n",
    "    valid_test_batch_size= VALID_TEST_BATCH_SIZE\n",
    "    \n",
    "    inputs = Input(shape=(img_size, img_size, channel)) \n",
    "    vit_model = ViT(num_classes=num_classes,\n",
    "                num_layers=num_layers,\n",
    "                num_heads=num_heads,\n",
    "                D=D,\n",
    "                mlp_dim=mlp_dim,\n",
    "                patch_size=patch_size,\n",
    "                image_size=image_size,\n",
    "                dropout=dropout,\n",
    "                norm_eps=norm_eps)\n",
    "    \n",
    "    outputs = vit_model(inputs)  \n",
    "    \n",
    "    model = Model(inputs=inputs, outputs=outputs)\n",
    "\n",
    "    learning_rate = hp.Float('learning_rate', min_value=1e-5, max_value=1e-2, sampling='log')\n",
    "    weight_decay = hp.Float('weight_decay', min_value=1e-6, max_value=1e-2, sampling='log')\n",
    "\n",
    "    \n",
    "    optimizer = kr.optimizers.AdamW(\n",
    "        learning_rate=learning_rate, weight_decay=weight_decay\n",
    "      )\n",
    "\n",
    "    model.compile(\n",
    "        optimizer=optimizer, \n",
    "        loss='binary_crossentropy', \n",
    "        metrics=['accuracy']\n",
    "    )\n",
    "    \n",
    "    return model\n",
    "\n",
    "# Create the Hyperband tuner\n",
    "tuner = kt.Hyperband(\n",
    "    build_vit_model,  # The model-building function\n",
    "    objective='val_accuracy',  # The objective to optimize\n",
    "    directory='best_hypter_parameter',  # Directory to store the results\n",
    "    project_name='vit_tuning'  # Name of the project,\n",
    ")\n",
    "\n",
    "# Run the search for the best hyperparameters\n",
    "tuner.search(train_gen,\n",
    "            steps_per_epoch=train_steps,\n",
    "            validation_data=valid_gen,\n",
    "            validation_steps=validation_steps,\n",
    "            epochs=100,\n",
    "            callbacks=callbacks_list\n",
    "           )\n",
    "\n",
    "# Get the best model and hyperparameters\n",
    "best_model = tuner.get_best_models(num_models=1)[0]\n",
    "best_hp = tuner.get_best_hyperparameters(num_trials=1)[0]\n",
    "\n",
    "print(f\"Best hyperparameters: {best_hp.values}\")\n"
   ]
  }
 ],
 "metadata": {
  "kernelspec": {
   "display_name": "Python 3 (ipykernel)",
   "language": "python",
   "name": "python3"
  },
  "language_info": {
   "codemirror_mode": {
    "name": "ipython",
    "version": 3
   },
   "file_extension": ".py",
   "mimetype": "text/x-python",
   "name": "python",
   "nbconvert_exporter": "python",
   "pygments_lexer": "ipython3",
   "version": "3.12.7"
  }
 },
 "nbformat": 4,
 "nbformat_minor": 5
}
